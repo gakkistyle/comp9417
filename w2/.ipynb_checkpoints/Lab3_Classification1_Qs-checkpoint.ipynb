{
 "cells": [
  {
   "cell_type": "markdown",
   "metadata": {},
   "source": [
    "# Classification 1 – distance measures and Nearest Neighbour classification"
   ]
  },
  {
   "cell_type": "markdown",
   "metadata": {},
   "source": [
    "## Introduction"
   ]
  },
  {
   "cell_type": "markdown",
   "metadata": {},
   "source": [
    "In this notebook we will expand on some of the concepts of \n",
    "classification, starting with an experiment with distance measures on data, then looking into the $k$-Nearest Neighbour algorithm. Please try to understand the code and follow instructions marked in <font color='purple'>purple</font> color."
   ]
  },
  {
   "cell_type": "markdown",
   "metadata": {},
   "source": [
    "1) Distance measures for high-dimensionality data\n",
    "\n",
    "Algorithms such as $k$-Nearest Neighbour are conceptually very simple -- we predict the class value of an unlabelled *query* data point we are given by looking at all the labelled data point(s) in our data set, and predicting that our query will have the same class as the most similar data point(s) in the training set. So, all we need is a way of measuring similarity. The well-known *Euclidean distance measure* would seem to be a good choice. However, while we are very familiar with Euclidean distance in 2 and 3-dimensions, there is a problem with high-dimensions –  <font color='purple'>what is this problem</font> ? "
   ]
  },
  {
   "cell_type": "markdown",
   "metadata": {},
   "source": [
    "### Pairwise distances in high-dimensional spaces \n",
    "\n",
    " <font color='green'>**Answer**: in high-dimensional spaces everything is far away from everything else, and so pairwise distances become uninformative</font>."
   ]
  },
  {
   "cell_type": "markdown",
   "metadata": {},
   "source": [
    "But what does this actually mean ? There is a mathematical argument to show that this is a true statement, but an alternative approach is simply to simulate what happens. One approach is to randomly generate $N$ points inside a $d$-dimensional cube centred around zero, such as $[-0.5, 0.5]^{d}$. Now we calculate the pairwise distances among the $N$ points.  After that for every data point we calculate the ratio of the minimum distance to the maximum distance  to all of the other data points. The mean ratio represents the average range of pairwise distances there are in that dimensionality. We run the simulation from 1 dimension to 1000 dimensions and the ratios will be plotted on a line chart using the ``` matplotlib ``` library. \n",
    "\n",
    "You should use the ```numpy``` library for this, and in particular the linear algebra methods to calculate distances such as the [L2 norm](https://docs.scipy.org/doc/numpy-1.13.0/reference/generated/numpy.linalg.norm.html#numpy.linalg.norm). "
   ]
  },
  {
   "cell_type": "code",
   "execution_count": 1,
   "metadata": {},
   "outputs": [
    {
     "data": {
      "image/png": "[encoded data removed]",
      "text/plain": [
       "<Figure size 432x288 with 1 Axes>"
      ]
     },
     "metadata": {
      "needs_background": "light"
     },
     "output_type": "display_data"
    }
   ],
   "source": [
    "%matplotlib inline\n",
    "import numpy as np\n",
    "import matplotlib.pyplot as plt\n",
    "\n",
    "def run_d_n(dim,N_pts,L):\n",
    "    pts=np.random.rand(N_pts,dim)-0.5 # simulate N_pts points on dim dimensions space\n",
    "    ratio_list=[]\n",
    "    for i in range(N_pts):\n",
    "        # ignore the data point itself\n",
    "        selected_pts=np.array([j for j in range(N_pts) if j!=i])\n",
    "        # calculate the L2 or L1 distance with other points\n",
    "        dist=np.linalg.norm(pts[selected_pts]-pts[i],L,axis=1)\n",
    "        # calculate the ratio of the min. distance to the max. distance\n",
    "        ratio=np.min(dist)/np.max(dist)\n",
    "        ratio_list.append(ratio)\n",
    "    # output the mean ratio\n",
    "    return np.mean(ratio_list)\n",
    "\n",
    "# Initialise the N_pts, the number of points we simulate\n",
    "N_pts=200\n",
    "# Setting l=2 to calculate the L2 distance\n",
    "l=2\n",
    "# Setting the number of dimensions we simulate\n",
    "check_dim=range(1,550,50)\n",
    "# Calculate the mean ratio on that dimension\n",
    "ratio_list=[ run_d_n(dim,N_pts,l) for dim in check_dim]\n",
    "# Plot the ratio with its corresponding dimension\n",
    "plt.plot(check_dim,ratio_list)\n",
    "plt.ylabel(\"Mean ratio of min/max pairwise distances\")\n",
    "plt.xlabel(\"Number of dimensions\")\n",
    "plt.title(\"Effect of increasing dimensionality on pairwise distances\")\n",
    "plt.xticks(np.arange(0, 600, step=100))\n",
    "plt.show()"
   ]
  },
  {
   "cell_type": "markdown",
   "metadata": {},
   "source": [
    " <font color='purple'>**Question:** how can this plot be interpreted ? How else could you visualize this effect</font> ?"
   ]
  },
  {
   "cell_type": "code",
   "execution_count": null,
   "metadata": {},
   "outputs": [],
   "source": []
  },
  {
   "cell_type": "markdown",
   "metadata": {},
   "source": [
    "## 2) Implement Nearest Neighbour from scratch\n",
    "\n",
    "The following will give some practise in implementing a simple classifier, the $k$-Nearest Neighbour ($k$NN) algorithm. It should help us to write a $k$NN package from scratch. Most machine learning methods include two main steps, namely training (fitting to a model to the training data) and prediction (running the model on input data  to generate output). However, in the $k$NN algorithm, since there is no explicit model-building step, we only require implementation of the prediction step without a training step."
   ]
  },
  {
   "cell_type": "code",
   "execution_count": 2,
   "metadata": {},
   "outputs": [],
   "source": [
    "%matplotlib inline\n",
    "import numpy as np\n",
    "import matplotlib.pyplot as plt"
   ]
  },
  {
   "cell_type": "markdown",
   "metadata": {},
   "source": [
    "## Data Creation"
   ]
  },
  {
   "cell_type": "code",
   "execution_count": 3,
   "metadata": {},
   "outputs": [
    {
     "name": "stdout",
     "output_type": "stream",
     "text": [
      "(500, 2) (500, 2)\n",
      "[[-0.39844899  2.55303147]\n",
      " [ 1.22664737  2.13599948]\n",
      " [ 0.57412197  1.00023397]\n",
      " [ 0.86550321 -1.57510533]\n",
      " [ 2.92120383  1.13187646]\n",
      " [ 2.03349478  2.98622978]\n",
      " [ 0.31468136 -0.98448738]\n",
      " [-0.02646473  0.2973353 ]\n",
      " [ 2.22753151 -2.83552747]\n",
      " [ 1.28353311 -0.76727995]\n",
      " [ 0.46865031  1.23280053]\n",
      " [ 1.21488463 -0.96292066]\n",
      " [ 3.06049664  0.54290684]\n",
      " [ 1.64764974  0.65432923]\n",
      " [-1.30115327 -0.33702922]\n",
      " [ 1.33893173  1.26154215]\n",
      " [ 0.94230497  0.55109622]\n",
      " [ 0.73338392 -0.67286777]\n",
      " [ 0.40687106 -1.20125052]\n",
      " [ 3.59069312  0.36535073]\n",
      " [ 0.98987891  0.4890476 ]\n",
      " [ 1.57372289 -1.04876166]\n",
      " [ 3.28163941 -0.20186378]\n",
      " [-0.18938083  0.46286554]\n",
      " [ 1.10383201 -0.05755114]\n",
      " [ 0.65681163  2.84660863]\n",
      " [ 2.73605733 -0.40221634]\n",
      " [ 2.68920289 -1.16372559]\n",
      " [ 2.03596055 -1.6376054 ]\n",
      " [ 1.0868231   2.70682115]\n",
      " [ 2.97320509  0.90356931]\n",
      " [ 0.40927667 -0.39981487]\n",
      " [-0.56091674 -1.30003931]\n",
      " [ 1.17626031 -1.20859064]\n",
      " [ 0.70533024  2.36773706]\n",
      " [ 0.07493738  0.86366512]\n",
      " [ 2.76166263  1.6723338 ]\n",
      " [ 0.57506184 -0.88036437]\n",
      " [ 1.48032859  0.02476045]\n",
      " [ 0.42184075 -0.0162262 ]\n",
      " [ 1.2971251  -1.74070696]\n",
      " [-0.92354306  0.17661622]\n",
      " [ 1.52617693  2.26322996]\n",
      " [ 0.73774074 -0.75455589]\n",
      " [ 0.78703595 -0.62020405]\n",
      " [ 1.43812012 -1.13219834]\n",
      " [ 0.55883919  1.52373438]\n",
      " [ 2.11267014  1.63299734]\n",
      " [ 0.70572281 -0.47903503]\n",
      " [ 2.19041778  1.21767158]\n",
      " [ 0.89356121  0.80936882]\n",
      " [ 1.40324207  0.42352056]\n",
      " [ 0.35653926  0.55970642]\n",
      " [ 1.87385822  2.76911287]\n",
      " [-0.1014503   0.06119949]\n",
      " [ 2.98077605  0.80465836]\n",
      " [ 1.42718598  0.49522872]\n",
      " [ 2.24408115  0.81117837]\n",
      " [ 0.92185793  0.90286716]\n",
      " [ 0.56240756  0.50851545]\n",
      " [ 1.51010719 -0.56783757]\n",
      " [ 1.58842463 -1.46763437]\n",
      " [ 2.54105891 -0.12531656]\n",
      " [ 1.75923973  0.43929569]\n",
      " [ 0.88150353 -0.42054499]\n",
      " [ 1.66832194  0.30505343]\n",
      " [ 1.02213162  0.42683191]\n",
      " [ 1.97569222 -0.4328289 ]\n",
      " [ 0.37918725  0.46432207]\n",
      " [ 2.08989199  2.63020839]\n",
      " [ 0.99298876 -0.39099784]\n",
      " [ 0.91367728  0.59482204]\n",
      " [-0.73747712 -0.10165115]\n",
      " [ 1.02207175  1.78515479]\n",
      " [-0.11376534  0.72218723]\n",
      " [ 0.22243868 -1.31502897]\n",
      " [ 1.91642492  2.04813787]\n",
      " [ 0.80901537  0.60536937]\n",
      " [ 0.93174153 -0.60678071]\n",
      " [ 2.73082015  1.6111712 ]\n",
      " [-0.09071656 -0.4454397 ]\n",
      " [ 0.89006841  1.81327699]\n",
      " [ 0.59016753 -0.96271541]\n",
      " [ 3.13948963  1.18261717]\n",
      " [ 2.05588727  1.76175803]\n",
      " [ 1.48900297  1.78075021]\n",
      " [-0.69385824  0.10578758]\n",
      " [ 0.58465818 -0.42381768]\n",
      " [ 1.40504996  0.17880933]\n",
      " [ 1.05626459  1.27230845]\n",
      " [ 0.52002276 -0.85480902]\n",
      " [ 2.84252535  0.91381515]\n",
      " [ 0.39114925  0.56834869]\n",
      " [ 1.81353411  2.63913641]\n",
      " [ 3.37519237  0.05612518]\n",
      " [ 0.10700144  1.18554427]\n",
      " [ 0.44289102 -1.79220611]\n",
      " [-0.44951807  0.48593168]\n",
      " [-0.3373906   2.68112762]\n",
      " [ 1.22377638 -1.18544762]\n",
      " [ 1.11986779 -0.28699965]\n",
      " [ 0.5079049   1.07921358]\n",
      " [ 1.60026482 -0.79050913]\n",
      " [-0.50774433 -1.55913123]\n",
      " [ 1.05923633  1.31318202]\n",
      " [ 1.10535533  1.16060577]\n",
      " [ 0.11744329  0.91238585]\n",
      " [ 1.7154844  -1.4440122 ]\n",
      " [-0.20426229  1.57215354]\n",
      " [ 0.18435081 -0.41169229]\n",
      " [ 1.86263293 -1.27452197]\n",
      " [ 2.27034103  0.22381106]\n",
      " [ 0.07966699  0.86408478]\n",
      " [-0.25120842  1.57625036]\n",
      " [ 0.42617822 -0.15628588]\n",
      " [ 0.29523748 -0.70515552]\n",
      " [ 1.9208446   1.33373322]\n",
      " [ 0.70530161  1.11264595]\n",
      " [-0.15405071 -1.47622654]\n",
      " [ 0.50175396 -0.66000972]\n",
      " [ 1.8098204  -0.60435409]\n",
      " [-0.47266039 -0.65849643]\n",
      " [ 1.78299964  2.42375685]\n",
      " [ 1.10871326  1.27304852]\n",
      " [-1.76832575  1.24762664]\n",
      " [ 1.95515119 -0.25034698]\n",
      " [ 0.88044472  0.76497707]\n",
      " [-0.73260086 -1.3055138 ]\n",
      " [ 0.40241429  0.29892096]\n",
      " [ 1.40657773 -0.19152136]\n",
      " [ 0.25220277  1.75335386]\n",
      " [-0.21514815  0.02485957]\n",
      " [-1.03568895  1.71755467]\n",
      " [ 0.35674009 -0.94115005]\n",
      " [ 0.02393167  0.36629382]\n",
      " [ 2.7166996  -0.12865042]\n",
      " [ 1.09578224 -0.43144573]\n",
      " [ 2.37514233  1.39258916]\n",
      " [ 2.08374303  2.66494536]\n",
      " [ 0.16734747  1.30615529]\n",
      " [-1.00387631  0.8914829 ]\n",
      " [ 2.03351247  0.89854515]\n",
      " [ 1.11223329 -0.48158279]\n",
      " [ 0.35004657  0.49783606]\n",
      " [ 1.30507939  0.76681573]\n",
      " [ 1.17944825  1.32955471]\n",
      " [ 1.25193929  2.10412966]\n",
      " [-0.15985747  0.42941812]\n",
      " [ 1.32498008 -0.88374041]\n",
      " [ 0.62296978 -2.41448296]\n",
      " [ 1.69315241  1.61665385]\n",
      " [ 1.15560778  0.19269109]\n",
      " [ 1.76795749  2.05558314]\n",
      " [ 0.95807526 -0.12689835]\n",
      " [ 3.16130213  1.2239889 ]\n",
      " [ 2.08356687  0.73076139]\n",
      " [ 1.8403694  -0.01965016]\n",
      " [ 1.27546666 -0.30602315]\n",
      " [ 0.49397899  0.88993284]\n",
      " [-1.15953971 -0.95092314]\n",
      " [ 1.56599548  0.59744978]\n",
      " [ 0.20269933  2.44743813]\n",
      " [ 1.07053218  0.54670984]\n",
      " [ 1.71053394  0.65184397]\n",
      " [ 0.0748355   2.20962385]\n",
      " [ 0.79565692  0.0906028 ]\n",
      " [ 0.31171959  0.80425222]\n",
      " [-0.57781379  0.45612887]\n",
      " [ 0.49722998 -0.50063682]\n",
      " [ 2.03970495  1.9878754 ]\n",
      " [-0.27846492 -0.03443124]\n",
      " [ 1.91992555 -0.14055109]\n",
      " [-0.14204093 -0.00439119]\n",
      " [ 3.16401063  1.54392626]\n",
      " [ 1.74793254 -0.06483032]\n",
      " [ 0.43566269  1.76084425]\n",
      " [ 1.25807043 -0.1603342 ]\n",
      " [ 1.89761465  1.62623691]\n",
      " [ 0.7776299   2.17341307]\n",
      " [ 0.65856327  0.34206384]\n",
      " [ 1.17680062 -0.06462288]\n",
      " [ 0.03095375  2.41920254]\n",
      " [ 0.57616038  0.55724657]\n",
      " [ 3.02938146  1.97204698]\n",
      " [ 1.04692143  0.83518581]\n",
      " [ 1.37621956  0.76753114]\n",
      " [ 2.37553828  0.05404456]\n",
      " [-0.25424509  0.33120782]\n",
      " [ 1.36966463  0.59734856]\n",
      " [ 0.91842139  0.01253962]\n",
      " [ 0.10094806  3.08565595]\n",
      " [ 2.74505027  0.3670187 ]\n",
      " [ 1.66823921  0.95739322]\n",
      " [ 2.16760001  0.78985172]\n",
      " [ 0.53414468  2.37647738]\n",
      " [-0.8786028   1.87456606]\n",
      " [ 1.99290098 -1.98462028]\n",
      " [ 0.97157425  1.89781556]\n",
      " [ 1.58292433 -0.04608611]\n",
      " [ 1.22715358 -0.23407503]\n",
      " [ 0.1681171  -1.10366399]\n",
      " [ 0.88314502  0.57474737]\n",
      " [ 2.61769657  0.54088466]\n",
      " [ 0.67659286  1.01863507]\n",
      " [ 2.87351461 -0.95184012]\n",
      " [ 1.46685447  1.77390861]\n",
      " [-0.02636064 -1.5193799 ]\n",
      " [ 0.57542545  2.19684176]\n",
      " [ 2.14125942  0.14251147]\n",
      " [ 0.23883119  1.19364166]\n",
      " [ 2.01308363  0.9689492 ]\n",
      " [ 2.66410136 -0.73842993]\n",
      " [-0.15921222 -0.80145424]\n",
      " [-0.15726117  0.05894775]\n",
      " [ 2.13293524  0.39663245]\n",
      " [ 2.16791603  1.1704729 ]\n",
      " [ 0.3958454  -0.81846888]\n",
      " [ 1.64486558  1.00893551]\n",
      " [ 0.81863812  1.51917032]\n",
      " [ 0.2357453   0.30003649]\n",
      " [ 0.06653991 -0.23026957]\n",
      " [ 0.15549148 -0.68363295]\n",
      " [ 1.84082094 -0.23394705]\n",
      " [ 1.13140897  1.26837174]\n",
      " [-0.07148055  0.23274372]\n",
      " [ 1.58793603  0.71071865]\n",
      " [ 1.90360595  1.33148311]\n",
      " [ 2.05499017  2.94738666]\n",
      " [ 0.56822572  0.24774653]\n",
      " [ 1.67264678 -0.5843145 ]\n",
      " [ 1.37257108  2.06398281]\n",
      " [ 1.52395215  2.16204337]\n",
      " [ 1.20376836  2.05984695]\n",
      " [ 1.82474326  0.9026523 ]\n",
      " [ 0.1940432  -1.67834898]\n",
      " [ 2.07350203  1.78475097]\n",
      " [ 1.00364135 -1.42627083]\n",
      " [ 1.15915294  0.4626538 ]\n",
      " [ 0.95620798  0.40477118]\n",
      " [ 3.111841   -0.30959544]\n",
      " [ 0.95472875  0.77672635]\n",
      " [ 3.18928312  1.43398771]\n",
      " [ 2.23033931  0.36873189]\n",
      " [-0.11440781 -0.63609649]\n",
      " [ 1.05691698  1.25408256]\n",
      " [ 0.23487402  1.39719134]\n",
      " [ 0.77087636  2.70465867]\n",
      " [ 0.53674643  0.11154618]\n",
      " [ 0.02249815  0.02453638]\n",
      " [ 0.21561217  2.68548651]\n",
      " [ 1.08210397  1.98687907]\n",
      " [ 2.72996636 -0.04577372]\n",
      " [-0.09610346 -0.58437562]\n",
      " [ 0.5086869  -0.41234657]\n",
      " [ 0.00430394 -1.34268487]\n",
      " [ 0.22763128 -0.36186261]\n",
      " [ 1.16985434  2.36128141]\n",
      " [ 0.67604745  2.73662909]\n",
      " [ 1.1670583   1.3147176 ]\n",
      " [ 0.48265391 -2.59600725]\n",
      " [ 1.68041128  1.19237833]\n",
      " [ 0.9154995   0.5094919 ]\n",
      " [ 0.20472963  1.44690618]\n",
      " [-0.28520181 -1.45416875]\n",
      " [ 0.55290138  0.83728074]\n",
      " [-0.5280481  -0.72231672]\n",
      " [ 1.5833476   1.77832145]\n",
      " [ 1.09954731  0.14347108]\n",
      " [ 1.33540106  1.21514436]\n",
      " [ 1.50517354  0.5251011 ]\n",
      " [ 2.11436881 -0.04561762]\n",
      " [-0.36413889  0.85975507]\n",
      " [ 2.09326048  1.37874751]\n",
      " [ 2.19629808  2.67606695]\n",
      " [-0.45290353 -0.87201811]\n",
      " [ 1.73922557 -2.12483409]\n",
      " [-0.31817447  0.05112807]\n",
      " [ 1.46094057 -0.08009787]\n",
      " [ 1.38847431  0.35913975]\n",
      " [ 2.60582718  0.02271956]\n",
      " [-0.03311245  0.01692654]\n",
      " [ 0.27840814 -0.1527773 ]\n",
      " [ 0.36375405  0.59196783]\n",
      " [ 2.06696594 -1.13798852]\n",
      " [ 1.33070934  3.00329199]\n",
      " [ 0.79128338  1.47544943]\n",
      " [ 1.99988883  1.58187298]\n",
      " [-0.53695635 -0.85105257]\n",
      " [-1.24810327  1.28224873]\n",
      " [ 2.54769131  0.35276424]\n",
      " [ 2.11904895  0.12820199]\n",
      " [ 2.04894694 -0.25097446]\n",
      " [ 1.21371631  1.4849944 ]\n",
      " [ 1.86568701  0.39746916]\n",
      " [ 3.30234577  1.25675518]\n",
      " [ 0.65186864  0.92040955]\n",
      " [ 1.48478917 -0.80299615]\n",
      " [ 1.32482131 -0.18312764]\n",
      " [ 1.85031547  0.92833149]\n",
      " [ 2.52069898  0.199642  ]\n",
      " [ 2.1220031   0.63676731]\n",
      " [ 1.50090639  0.30204225]\n",
      " [-0.36440466  1.36771414]\n",
      " [ 1.5917745   1.19237536]\n",
      " [ 2.36165726 -1.04729102]\n",
      " [ 2.68584208  0.85128045]\n",
      " [ 1.69502457  0.0988383 ]\n",
      " [ 1.05762914 -0.12074315]\n",
      " [ 0.33385264  0.83538649]\n",
      " [ 2.44219378  0.57255702]\n",
      " [-0.97459221 -0.49298654]\n",
      " [ 1.05086331 -0.54515708]\n",
      " [ 0.28012357  1.2086503 ]\n",
      " [ 0.82200648 -0.17713309]\n",
      " [ 0.26573985  0.21945305]\n",
      " [ 1.33774797  1.02788573]\n",
      " [ 1.88485963  0.29531747]\n",
      " [ 0.78143735  0.61733125]\n",
      " [ 0.58946272 -0.44177702]\n",
      " [ 0.76480435  0.86587397]\n",
      " [-0.27161168  2.13731744]\n",
      " [ 0.62123166 -0.19680882]\n",
      " [ 3.11437602 -0.78072256]\n",
      " [ 0.61663717 -0.07105798]\n",
      " [ 0.96857631  2.03031631]\n",
      " [ 1.70599849  1.7896503 ]\n",
      " [-0.38421034 -0.77033663]\n",
      " [ 2.77229711  3.70592682]\n",
      " [ 1.18875268  1.93002657]\n",
      " [ 0.77675616 -0.48589761]\n",
      " [ 0.23019526  1.81026885]\n",
      " [ 0.34562006  1.05092856]\n",
      " [ 0.70620889 -0.34328675]\n",
      " [ 2.08038455  0.39200288]\n",
      " [ 0.09083312  1.35022072]\n",
      " [ 1.19385887 -0.23802912]\n",
      " [ 0.37255607  1.18086642]\n",
      " [-0.6109341   1.06955548]\n",
      " [ 1.01806356 -0.97869777]\n",
      " [ 2.90290817  0.51978992]\n",
      " [ 1.81131122  0.97452218]\n",
      " [ 1.87607406 -1.36162198]\n",
      " [-1.49332242  0.25529411]\n",
      " [-0.94236535 -1.12154996]\n",
      " [ 1.80641098  0.52535054]\n",
      " [ 0.43820551 -0.6067825 ]\n",
      " [ 1.28959873 -0.13358211]\n",
      " [ 1.04975305  2.637597  ]\n",
      " [ 0.35568214  0.6130023 ]\n",
      " [ 1.37958048  1.43321712]\n",
      " [-0.62159642  1.19642213]\n",
      " [ 2.36817633 -1.52296486]\n",
      " [ 2.15886451  1.64466865]\n",
      " [-0.71702393 -0.02043523]\n",
      " [ 0.29234242  1.54275138]\n",
      " [ 1.04660688  0.38784842]\n",
      " [ 0.52500148 -0.08448674]\n",
      " [ 1.12421506  0.35265996]\n",
      " [ 1.57668738  1.11830461]\n",
      " [ 2.02717443  0.20023072]\n",
      " [ 1.34346962  0.25958206]\n",
      " [ 1.61731266 -2.2906968 ]\n",
      " [ 1.31821701 -1.11368379]\n",
      " [ 1.66611138  0.59443637]\n",
      " [ 0.23946572  1.50831095]\n",
      " [-1.18276645  0.95903152]\n",
      " [-0.06379349 -0.48627765]\n",
      " [-0.3520939   0.42058064]\n",
      " [ 2.26635379  2.83482359]\n",
      " [ 1.56725699 -0.89459333]\n",
      " [ 2.30877224 -1.33183603]\n",
      " [ 1.92369526 -0.15716338]\n",
      " [ 0.00675842  1.39531999]\n",
      " [ 0.31240917  0.21638466]\n",
      " [ 2.08800892  1.75188143]\n",
      " [ 0.88324698  1.71612952]\n",
      " [ 2.71977925 -0.01209781]\n",
      " [ 2.72887551  0.42944345]\n",
      " [-0.98451585 -0.53037694]\n",
      " [ 3.20011272  0.31573455]\n",
      " [ 1.21961533 -0.16206827]\n",
      " [ 1.17052271 -1.00393763]\n",
      " [-0.16057027  3.06881005]\n",
      " [ 1.95461197 -1.03829483]\n",
      " [ 0.35246158 -2.7831497 ]\n",
      " [ 0.63205188  2.06153048]\n",
      " [ 2.07121547  2.55426162]\n",
      " [-0.4644048  -0.67944623]\n",
      " [ 1.18736394  0.83642859]\n",
      " [-0.33607077 -0.39629977]\n",
      " [-0.38819058  3.04416166]\n",
      " [ 0.38285148  1.05463607]\n",
      " [-0.62918173  0.27373622]\n",
      " [ 1.63774353  0.66268218]\n",
      " [-0.20681984 -1.57964706]\n",
      " [-0.18002767 -1.26919683]\n",
      " [ 1.6695721   0.03321767]\n",
      " [ 0.41370028  0.82772969]\n",
      " [ 0.56219722 -0.97189204]\n",
      " [-0.40793276  3.67045587]\n",
      " [ 1.9011087   1.82233803]\n",
      " [ 2.19700964  0.82416349]\n",
      " [ 0.60309547  1.27618806]\n",
      " [ 0.84220689 -0.36064101]\n",
      " [ 0.2590033   2.58710869]\n",
      " [ 3.16664668  0.57712261]\n",
      " [-0.16683607  1.60208279]\n",
      " [ 2.41345669  0.6464742 ]\n",
      " [ 1.94779741 -0.29465328]\n",
      " [ 1.67876315  0.79092675]\n",
      " [ 1.86250945  1.54395281]\n",
      " [ 2.34641821  1.2432388 ]\n",
      " [ 1.87929367 -0.88114878]\n",
      " [ 3.86962263  0.50341379]\n",
      " [ 2.37001556  0.01876941]\n",
      " [-0.4330843  -0.90903179]\n",
      " [ 0.68747996 -0.85179222]\n",
      " [ 0.34839456 -0.29229046]\n",
      " [ 2.72791781 -1.0936562 ]\n",
      " [ 2.08256237  0.06480389]\n",
      " [ 1.83185648 -2.88397384]\n",
      " [ 0.24241485  0.21151065]\n",
      " [ 2.03764625  1.79893991]\n",
      " [-0.22326971  1.41143558]\n",
      " [ 0.7707878   2.73831438]\n",
      " [ 2.12177777  0.82826573]\n",
      " [ 2.59830583  3.01571652]\n",
      " [ 0.74980442 -0.27370407]\n",
      " [-0.25781115  1.97986449]\n",
      " [ 1.34916249  1.60605891]\n",
      " [ 2.18859742  0.16392859]\n",
      " [ 2.25677317  1.35475764]\n",
      " [ 0.78217453 -0.50412884]\n",
      " [ 0.88819216  0.81996409]\n",
      " [ 1.10467094  1.02931584]\n",
      " [ 0.57276822  1.02899868]\n",
      " [ 1.96764401  0.3060278 ]\n",
      " [-1.36405428 -1.40420609]\n",
      " [ 0.35216744 -0.57711152]\n",
      " [ 1.02946686  0.0383783 ]\n",
      " [ 0.98858892  0.02923725]\n",
      " [-0.43787252  0.92982711]\n",
      " [ 1.9218746   1.68480038]\n",
      " [ 0.64584408  0.1091896 ]\n",
      " [ 0.07507022  0.61375005]\n",
      " [ 1.31181587 -1.16441691]\n",
      " [ 0.55629052  1.08140404]\n",
      " [-0.20441844 -0.76235208]\n",
      " [ 1.06754458  0.48408247]\n",
      " [ 2.50390687  0.82597795]\n",
      " [ 0.68174043 -0.77914519]\n",
      " [ 0.06482606  0.27735478]\n",
      " [ 0.89333958 -0.20667259]\n",
      " [ 1.86316413  0.172884  ]\n",
      " [-0.52191025 -1.30995587]\n",
      " [ 1.73005     0.27591171]\n",
      " [ 1.23337808  0.59084223]\n",
      " [ 1.39678793  2.28865419]\n",
      " [ 0.77300514  0.13113793]\n",
      " [ 0.861111   -0.68932595]\n",
      " [ 1.18783215  0.36148365]\n",
      " [ 1.90709545  0.52839493]\n",
      " [ 1.34227769  0.94128015]\n",
      " [ 0.22578947 -2.1186511 ]\n",
      " [-0.68842149  1.6374551 ]\n",
      " [ 0.78909062 -0.74010173]\n",
      " [ 1.97433586 -0.00601083]\n",
      " [ 4.2429986   1.68104478]\n",
      " [-0.19940948 -0.7426848 ]\n",
      " [ 0.31970591 -2.144428  ]\n",
      " [ 1.29785361  0.65682964]\n",
      " [ 1.27617906 -0.27862181]\n",
      " [-1.28256667  0.19413949]\n",
      " [ 1.58854045  1.95293317]\n",
      " [ 1.90198322  0.79498968]\n",
      " [ 0.86110279  1.57372977]\n",
      " [-0.86306297  1.05629153]\n",
      " [-1.04318847  1.31471682]\n",
      " [ 1.41833348  1.9277862 ]\n",
      " [ 1.46849386 -0.32831877]\n",
      " [ 0.42702358  2.07397333]\n",
      " [ 1.64243506  1.2500307 ]\n",
      " [ 0.48288316  2.24500336]\n",
      " [ 0.97982478  0.82784333]\n",
      " [ 0.42095584  1.75875199]\n",
      " [ 0.01155631  2.09543036]\n",
      " [ 0.72470923 -0.51412599]\n",
      " [ 1.55332539 -1.10790996]\n",
      " [ 1.06703603 -0.73448624]\n",
      " [-0.22462381 -0.39088792]\n",
      " [ 0.88072982  0.28634319]\n",
      " [ 2.41054843  1.08774326]\n",
      " [ 2.01199452  0.65096865]\n",
      " [ 1.82534858  1.83634328]\n",
      " [ 2.51185752  0.94883262]\n",
      " [ 0.44433567  1.77109689]\n",
      " [-0.3084198   1.56711132]\n",
      " [ 1.03038097 -2.08178645]\n",
      " [ 1.8455954  -0.37449256]\n",
      " [-0.58141114  1.01167867]]\n"
     ]
    }
   ],
   "source": [
    "mean_01 = np.array([1, 0.5])\n",
    "cov_01 = np.array([[1, 0.1], [0.1, 1.2]])\n",
    "\n",
    "mean_02 = np.array([4, 5])\n",
    "cov_02 = np.array([[1, 0.1], [0.1, 1.2]])\n",
    "\n",
    "dist_01 = np.random.multivariate_normal(mean_01, cov_01, 500)\n",
    "dist_02 = np.random.multivariate_normal(mean_02, cov_02, 500)\n",
    "print(dist_01.shape, dist_02.shape)\n",
    "print(dist_01)"
   ]
  },
  {
   "cell_type": "markdown",
   "metadata": {},
   "source": [
    "We have created two 2-dimensional normal distributions of data points with the same covariance but different means."
   ]
  },
  {
   "cell_type": "markdown",
   "metadata": {},
   "source": [
    "## Plotting the created Data "
   ]
  },
  {
   "cell_type": "markdown",
   "metadata": {},
   "source": [
    "<font color='purple'>What does the data look like ? Notice the 2 unique clusters being formed.</font>"
   ]
  },
  {
   "cell_type": "code",
   "execution_count": 4,
   "metadata": {},
   "outputs": [
    {
     "data": {
      "image/png": "[encoded data removed]",
      "text/plain": [
       "<Figure size 432x288 with 1 Axes>"
      ]
     },
     "metadata": {
      "needs_background": "light"
     },
     "output_type": "display_data"
    }
   ],
   "source": [
    "plt.figure(0)\n",
    "plt.xlim(-5, 10)\n",
    "plt.ylim(-5, 10)\n",
    "\n",
    "plt.scatter([dist_01[i][0] for i in range(len(dist_01))], dist_01[:, 1])\n",
    "plt.scatter(dist_02[:, 0], dist_02[:, 1])#, color='red')\n",
    "plt.show()"
   ]
  },
  {
   "cell_type": "markdown",
   "metadata": {},
   "source": [
    "Let us now represent it in a tabular way. We will have dist_01 getting label 1."
   ]
  },
  {
   "cell_type": "code",
   "execution_count": 5,
   "metadata": {},
   "outputs": [
    {
     "name": "stdout",
     "output_type": "stream",
     "text": [
      "(1000, 3)\n",
      "[2.52297256 2.75301811 0.5       ]\n"
     ]
    }
   ],
   "source": [
    "r = dist_01.shape[0] + dist_02.shape[0]\n",
    "c = dist_01.shape[1] + 1\n",
    "data = np.zeros((r, c))\n",
    "print(data.shape)\n",
    "\n",
    "data[:dist_01.shape[0], :2] = dist_01\n",
    "data[dist_01.shape[0]:, :2] = dist_02\n",
    "data[dist_01.shape[0]:, -1] = 1.0\n",
    "\n",
    "#对各列求平均 axis = 0\n",
    "print(data.mean(axis=0))"
   ]
  },
  {
   "cell_type": "markdown",
   "metadata": {},
   "source": [
    "Now shuffle the data and check by printing the first 10 rows."
   ]
  },
  {
   "cell_type": "code",
   "execution_count": 6,
   "metadata": {
    "scrolled": true
   },
   "outputs": [
    {
     "name": "stdout",
     "output_type": "stream",
     "text": [
      "[[ 3.81863647  5.61440432  1.        ]\n",
      " [ 4.15737135  5.06047026  1.        ]\n",
      " [ 2.8518868   7.01950149  1.        ]\n",
      " [ 3.09661341  4.14361378  1.        ]\n",
      " [ 3.21903717  5.28066341  1.        ]\n",
      " [-0.57781379  0.45612887  0.        ]\n",
      " [ 0.42702358  2.07397333  0.        ]\n",
      " [ 2.79080688  5.32078846  1.        ]\n",
      " [-0.5280481  -0.72231672  0.        ]\n",
      " [ 3.16772582  5.79594323  1.        ]]\n"
     ]
    }
   ],
   "source": [
    "np.random.shuffle(data)\n",
    "print(data[:10])"
   ]
  },
  {
   "cell_type": "markdown",
   "metadata": {},
   "source": [
    "**Implementation.** Next, we implement our KNN algorithm. There are many ways to do this, but a basic approach will require a pairwise distance measure for instances, and a way to take a \"training\" dataset of classified instances and make a prediction for a \"test\" data instance. Here is a top-level outline.\n",
    "\n",
    "<font color='purple'>Please add an impelemtation code. Use Manhattan (L2) distance</font>."
   ]
  },
  {
   "cell_type": "code",
   "execution_count": 7,
   "metadata": {},
   "outputs": [],
   "source": [
    "from math import sqrt\n",
    "def square(x):\n",
    "    return x*x\n",
    "\n",
    "def distance(x1, x2):\n",
    "   d = np.sqrt(((x1-x2)**2).sum())\n",
    "   return d\n",
    "    \n",
    "def knn(X_train, y_train, xt, k=7):\n",
    "#     vals = []\n",
    "#     for ix in range(X_train.shape[0]): # num rows\n",
    "#         d = distance(X_train[ix], xt) # distances of all training points from xt\n",
    "#         vals.append([d, y_train[ix]]) #dist, y values\n",
    "#     # sorted labels has two cols: dist and class of each point that dist was calculated\n",
    "#     sorted_labels = sorted(vals, key=lambda z: z[0]) # sort by dist, first val, second would be z[1], which is y value\n",
    "#     neighbours = np.asarray(sorted_labels)[:k, -1] # take k rows of last col (y val)\n",
    "    \n",
    "#     # count of each val Y, there are two vals 0 amd 1\n",
    "#     freq = np.unique(neighbours, return_counts=True) \n",
    "#     # freq[0] has class values: 0 amd 1, freq[1] has num of votes for 0 and for 1\n",
    "#     # return row 0 and col that has max count (freq is a tuple of arrays)\n",
    "#     # argmax returns col of freq[1] that has higher count, so freq[0] takes class from that col\n",
    "#     return freq[0][freq[1].argmax()] # return y: 0 or 1, whichever got higher count\n",
    "\n",
    "    easy = []\n",
    "    for i in range(len(y_train)):\n",
    "        easy.append([y_train[i],distance(X_train[i],xt)])     \n",
    "    sorted_easy = sorted(easy, key=lambda z: z[1]) \n",
    "    dic = {}\n",
    "    for i in range(k):\n",
    "        if sorted_easy[i][-2] not in dic.keys():\n",
    "            dic[sorted_easy[i][-2]] = 1\n",
    "        else:\n",
    "            dic[sorted_easy[i][-2]] += 1\n",
    "    maxi = 0\n",
    "    classfy = 0\n",
    "    for key in dic.keys():\n",
    "        if dic[key] > maxi:\n",
    "            maxi = dic[key]\n",
    "            classfy = key\n",
    "    return classfy\n"
   ]
  },
  {
   "cell_type": "markdown",
   "metadata": {},
   "source": [
    "<font color='purple'>Now check to see if we can make a prediction</font>."
   ]
  },
  {
   "cell_type": "code",
   "execution_count": 8,
   "metadata": {
    "scrolled": true
   },
   "outputs": [
    {
     "name": "stdout",
     "output_type": "stream",
     "text": [
      "0.0\n"
     ]
    }
   ],
   "source": [
    "test_point = np.array([8, -4])\n",
    "\n",
    "# a = []\n",
    "# a.append(data[:, :2][0].tolist())\n",
    "# a\n",
    "\n",
    "\n",
    "# Un-comment the line below and check if it comes out as 0.0  \n",
    "print(knn(data[:, :2], data[:, -1], test_point))"
   ]
  },
  {
   "cell_type": "markdown",
   "metadata": {},
   "source": [
    "## Create a train and test split of the data"
   ]
  },
  {
   "cell_type": "code",
   "execution_count": 9,
   "metadata": {
    "scrolled": true
   },
   "outputs": [
    {
     "name": "stdout",
     "output_type": "stream",
     "text": [
      "(750, 2) (750,)\n",
      "(250, 2) (250,)\n"
     ]
    }
   ],
   "source": [
    "np.random.shuffle(data)\n",
    "split = int(0.75 * data.shape[0])\n",
    "# print split\n",
    "train_data_X = data[:split, :2]\n",
    "train_data_y = data[:split, -1]\n",
    "test_data_X = data[split:, :2]\n",
    "test_data_y = data[split:, -1]\n",
    "\n",
    "print(train_data_X.shape, train_data_y.shape)\n",
    "print(test_data_X.shape, test_data_y.shape)"
   ]
  },
  {
   "cell_type": "markdown",
   "metadata": {},
   "source": [
    "<font color='purple'>**Implementation.** Next, please add an implementation to run our KNN classifier on all the test data and get the results</font>. "
   ]
  },
  {
   "cell_type": "code",
   "execution_count": 10,
   "metadata": {
    "scrolled": true
   },
   "outputs": [
    {
     "name": "stdout",
     "output_type": "stream",
     "text": [
      "0.984\n"
     ]
    }
   ],
   "source": [
    "# kx is the number of neighbours\n",
    "def get_acc(kx):\n",
    "    num_right = 0\n",
    "    for i in range(len(test_data_y)):\n",
    "        if knn(train_data_X,train_data_y,test_data_X[i],k = kx) == test_data_y[i]:\n",
    "            num_right += 1\n",
    "    return (num_right)/len(test_data_y)\n",
    "\n",
    "print(get_acc(7))"
   ]
  },
  {
   "cell_type": "markdown",
   "metadata": {},
   "source": [
    "<font color='purple'>What accuracy did you get ? You should get around 99 percent on this dataset</font>. "
   ]
  },
  {
   "cell_type": "markdown",
   "metadata": {},
   "source": [
    "## Now let's try real data : MNIST"
   ]
  },
  {
   "cell_type": "code",
   "execution_count": 11,
   "metadata": {},
   "outputs": [],
   "source": [
    "import pandas as pd\n",
    "\n",
    "import datetime"
   ]
  },
  {
   "cell_type": "markdown",
   "metadata": {},
   "source": [
    "Of course, MNIST is image data, but here we are using a CSV version where we can view the pixels as numbers (each row has the pixel data for an image of a digit, and the first column is the class of the digit, i.e., 0-9)."
   ]
  },
  {
   "cell_type": "code",
   "execution_count": 12,
   "metadata": {
    "scrolled": true
   },
   "outputs": [
    {
     "data": {
      "text/html": [
       "<div>\n",
       "<style scoped>\n",
       "    .dataframe tbody tr th:only-of-type {\n",
       "        vertical-align: middle;\n",
       "    }\n",
       "\n",
       "    .dataframe tbody tr th {\n",
       "        vertical-align: top;\n",
       "    }\n",
       "\n",
       "    .dataframe thead th {\n",
       "        text-align: right;\n",
       "    }\n",
       "</style>\n",
       "<table border=\"1\" class=\"dataframe\">\n",
       "  <thead>\n",
       "    <tr style=\"text-align: right;\">\n",
       "      <th></th>\n",
       "      <th>5</th>\n",
       "      <th>0</th>\n",
       "      <th>0.1</th>\n",
       "      <th>0.2</th>\n",
       "      <th>0.3</th>\n",
       "      <th>0.4</th>\n",
       "      <th>0.5</th>\n",
       "      <th>0.6</th>\n",
       "      <th>0.7</th>\n",
       "      <th>0.8</th>\n",
       "      <th>...</th>\n",
       "      <th>0.608</th>\n",
       "      <th>0.609</th>\n",
       "      <th>0.610</th>\n",
       "      <th>0.611</th>\n",
       "      <th>0.612</th>\n",
       "      <th>0.613</th>\n",
       "      <th>0.614</th>\n",
       "      <th>0.615</th>\n",
       "      <th>0.616</th>\n",
       "      <th>0.617</th>\n",
       "    </tr>\n",
       "  </thead>\n",
       "  <tbody>\n",
       "    <tr>\n",
       "      <th>0</th>\n",
       "      <td>0</td>\n",
       "      <td>0</td>\n",
       "      <td>0</td>\n",
       "      <td>0</td>\n",
       "      <td>0</td>\n",
       "      <td>0</td>\n",
       "      <td>0</td>\n",
       "      <td>0</td>\n",
       "      <td>0</td>\n",
       "      <td>0</td>\n",
       "      <td>...</td>\n",
       "      <td>0</td>\n",
       "      <td>0</td>\n",
       "      <td>0</td>\n",
       "      <td>0</td>\n",
       "      <td>0</td>\n",
       "      <td>0</td>\n",
       "      <td>0</td>\n",
       "      <td>0</td>\n",
       "      <td>0</td>\n",
       "      <td>0</td>\n",
       "    </tr>\n",
       "    <tr>\n",
       "      <th>1</th>\n",
       "      <td>4</td>\n",
       "      <td>0</td>\n",
       "      <td>0</td>\n",
       "      <td>0</td>\n",
       "      <td>0</td>\n",
       "      <td>0</td>\n",
       "      <td>0</td>\n",
       "      <td>0</td>\n",
       "      <td>0</td>\n",
       "      <td>0</td>\n",
       "      <td>...</td>\n",
       "      <td>0</td>\n",
       "      <td>0</td>\n",
       "      <td>0</td>\n",
       "      <td>0</td>\n",
       "      <td>0</td>\n",
       "      <td>0</td>\n",
       "      <td>0</td>\n",
       "      <td>0</td>\n",
       "      <td>0</td>\n",
       "      <td>0</td>\n",
       "    </tr>\n",
       "    <tr>\n",
       "      <th>2</th>\n",
       "      <td>1</td>\n",
       "      <td>0</td>\n",
       "      <td>0</td>\n",
       "      <td>0</td>\n",
       "      <td>0</td>\n",
       "      <td>0</td>\n",
       "      <td>0</td>\n",
       "      <td>0</td>\n",
       "      <td>0</td>\n",
       "      <td>0</td>\n",
       "      <td>...</td>\n",
       "      <td>0</td>\n",
       "      <td>0</td>\n",
       "      <td>0</td>\n",
       "      <td>0</td>\n",
       "      <td>0</td>\n",
       "      <td>0</td>\n",
       "      <td>0</td>\n",
       "      <td>0</td>\n",
       "      <td>0</td>\n",
       "      <td>0</td>\n",
       "    </tr>\n",
       "    <tr>\n",
       "      <th>3</th>\n",
       "      <td>9</td>\n",
       "      <td>0</td>\n",
       "      <td>0</td>\n",
       "      <td>0</td>\n",
       "      <td>0</td>\n",
       "      <td>0</td>\n",
       "      <td>0</td>\n",
       "      <td>0</td>\n",
       "      <td>0</td>\n",
       "      <td>0</td>\n",
       "      <td>...</td>\n",
       "      <td>0</td>\n",
       "      <td>0</td>\n",
       "      <td>0</td>\n",
       "      <td>0</td>\n",
       "      <td>0</td>\n",
       "      <td>0</td>\n",
       "      <td>0</td>\n",
       "      <td>0</td>\n",
       "      <td>0</td>\n",
       "      <td>0</td>\n",
       "    </tr>\n",
       "    <tr>\n",
       "      <th>4</th>\n",
       "      <td>2</td>\n",
       "      <td>0</td>\n",
       "      <td>0</td>\n",
       "      <td>0</td>\n",
       "      <td>0</td>\n",
       "      <td>0</td>\n",
       "      <td>0</td>\n",
       "      <td>0</td>\n",
       "      <td>0</td>\n",
       "      <td>0</td>\n",
       "      <td>...</td>\n",
       "      <td>0</td>\n",
       "      <td>0</td>\n",
       "      <td>0</td>\n",
       "      <td>0</td>\n",
       "      <td>0</td>\n",
       "      <td>0</td>\n",
       "      <td>0</td>\n",
       "      <td>0</td>\n",
       "      <td>0</td>\n",
       "      <td>0</td>\n",
       "    </tr>\n",
       "  </tbody>\n",
       "</table>\n",
       "<p>5 rows × 785 columns</p>\n",
       "</div>"
      ],
      "text/plain": [
       "   5  0  0.1  0.2  0.3  0.4  0.5  0.6  0.7  0.8  ...  0.608  0.609  0.610  \\\n",
       "0  0  0    0    0    0    0    0    0    0    0  ...      0      0      0   \n",
       "1  4  0    0    0    0    0    0    0    0    0  ...      0      0      0   \n",
       "2  1  0    0    0    0    0    0    0    0    0  ...      0      0      0   \n",
       "3  9  0    0    0    0    0    0    0    0    0  ...      0      0      0   \n",
       "4  2  0    0    0    0    0    0    0    0    0  ...      0      0      0   \n",
       "\n",
       "   0.611  0.612  0.613  0.614  0.615  0.616  0.617  \n",
       "0      0      0      0      0      0      0      0  \n",
       "1      0      0      0      0      0      0      0  \n",
       "2      0      0      0      0      0      0      0  \n",
       "3      0      0      0      0      0      0      0  \n",
       "4      0      0      0      0      0      0      0  \n",
       "\n",
       "[5 rows x 785 columns]"
      ]
     },
     "execution_count": 12,
     "metadata": {},
     "output_type": "execute_result"
    }
   ],
   "source": [
    "df = pd.read_csv('train.csv')\n",
    "df.head()"
   ]
  },
  {
   "cell_type": "markdown",
   "metadata": {},
   "source": [
    "Since the dataset is quite big, we will just use a subset."
   ]
  },
  {
   "cell_type": "code",
   "execution_count": 13,
   "metadata": {},
   "outputs": [
    {
     "name": "stdout",
     "output_type": "stream",
     "text": [
      "[[0 0 0 ... 0 0 0]\n",
      " [4 0 0 ... 0 0 0]\n",
      " [1 0 0 ... 0 0 0]\n",
      " ...\n",
      " [2 0 0 ... 0 0 0]\n",
      " [0 0 0 ... 0 0 0]\n",
      " [5 0 0 ... 0 0 0]]\n",
      "(2000, 785)\n"
     ]
    }
   ],
   "source": [
    "data = df.values[:2000]\n",
    "print(data)\n",
    "print (data.shape)"
   ]
  },
  {
   "cell_type": "markdown",
   "metadata": {},
   "source": [
    "Make a train/test split of the data."
   ]
  },
  {
   "cell_type": "code",
   "execution_count": 14,
   "metadata": {},
   "outputs": [
    {
     "name": "stdout",
     "output_type": "stream",
     "text": [
      "(1600, 784) (1600,)\n",
      "(400, 784) (400,)\n"
     ]
    }
   ],
   "source": [
    "split = int(0.8 * data.shape[0])\n",
    "\n",
    "X_train = data[:split, 1:]\n",
    "X_test = data[split:, 1:]\n",
    "\n",
    "y_train = data[:split, 0]\n",
    "y_test = data[split:, 0]\n",
    "\n",
    "print (X_train.shape, y_train.shape)\n",
    "print (X_test.shape, y_test.shape)"
   ]
  },
  {
   "cell_type": "markdown",
   "metadata": {},
   "source": [
    "Let us just check that our data really does represent images."
   ]
  },
  {
   "cell_type": "code",
   "execution_count": 15,
   "metadata": {
    "scrolled": true
   },
   "outputs": [
    {
     "name": "stdout",
     "output_type": "stream",
     "text": [
      "4\n"
     ]
    },
    {
     "data": {
      "image/png": "[encoded data removed]",
      "text/plain": [
       "<Figure size 432x288 with 1 Axes>"
      ]
     },
     "metadata": {
      "needs_background": "light"
     },
     "output_type": "display_data"
    }
   ],
   "source": [
    "plt.figure(0)\n",
    "plt.imshow(X_train[91].reshape((28, 28)), cmap='gray', interpolation='none')\n",
    "print (y_train[91])\n",
    "plt.show()"
   ]
  },
  {
   "cell_type": "markdown",
   "metadata": {},
   "source": [
    "<font color='purple'>**Implementation.** Now code another ```get_acc()``` and try different values of K on our dataset</font>."
   ]
  },
  {
   "cell_type": "code",
   "execution_count": 17,
   "metadata": {},
   "outputs": [
    {
     "name": "stdout",
     "output_type": "stream",
     "text": [
      "0.91\n"
     ]
    }
   ],
   "source": [
    "def get_acc(kx):\n",
    "    num_right = 0\n",
    "    for i in range(len(y_test)):\n",
    "        if knn(X_train,y_train,X_test[i],k = kx) == y_test[i]:\n",
    "            num_right += 1\n",
    "    return num_right/len(y_test)\n",
    "    \n",
    "\n",
    "print (get_acc(kx=5))"
   ]
  },
  {
   "cell_type": "markdown",
   "metadata": {},
   "source": [
    "<font color='purple'>Try different values of k and observe how the results changes. Which k gives the best result and why?</font>.\n",
    "\n",
    "<font color='purple'>Now explore different metrics: precision, recall, F1 and confusion matrix. Use ```sklearn.neighbors KNeighborsClassifier``` to obtain predictions and ```sklearn.metrics``` to do the calculations</font>."
   ]
  },
  {
   "cell_type": "code",
   "execution_count": 152,
   "metadata": {},
   "outputs": [
    {
     "name": "stdout",
     "output_type": "stream",
     "text": [
      "Precision: 0.8925\n",
      "Recall: 0.8925\n",
      "F1: 0.8925\n",
      "Confusion_matrix: \n",
      "[[40  0  0  0  0  0  0  0  0  0]\n",
      " [ 0 40  0  0  0  0  0  0  0  0]\n",
      " [ 1  4 34  1  0  0  0  2  0  0]\n",
      " [ 1  0  0 36  0  1  0  0  0  1]\n",
      " [ 0  3  0  0 35  1  0  1  0  3]\n",
      " [ 1  0  0  2  0 28  1  1  0  1]\n",
      " [ 0  2  0  0  0  1 43  0  0  0]\n",
      " [ 0  3  0  0  1  0  0 34  0  1]\n",
      " [ 1  0  0  1  0  0  1  0 26  2]\n",
      " [ 1  1  0  0  1  0  0  2  0 41]]\n"
     ]
    }
   ],
   "source": [
    "from sklearn.neighbors import KNeighborsClassifier\n",
    "from sklearn.metrics import precision_score, recall_score, f1_score, confusion_matrix\n",
    "\n",
    "neigh = KNeighborsClassifier(n_neighbors=5)\n",
    "neigh.fit(X_train, y_train)\n",
    "y_pred = neigh.predict(X_test)\n",
    "print(\"Precision: \"+str(precision_score(y_test, y_pred, average='micro')))\n",
    "print(\"Recall: \"+str(recall_score(y_test, y_pred, average='micro')))\n",
    "print(\"F1: \"+str(f1_score(y_test, y_pred, average='micro')))\n",
    "print(\"Confusion_matrix: \\n\"+str(confusion_matrix(y_test, y_pred)))"
   ]
  },
  {
   "cell_type": "code",
   "execution_count": null,
   "metadata": {},
   "outputs": [],
   "source": []
  }
 ],
 "metadata": {
  "anaconda-cloud": {},
  "kernelspec": {
   "display_name": "Python 3",
   "language": "python",
   "name": "python3"
  },
  "language_info": {
   "codemirror_mode": {
    "name": "ipython",
    "version": 3
   },
   "file_extension": ".py",
   "mimetype": "text/x-python",
   "name": "python",
   "nbconvert_exporter": "python",
   "pygments_lexer": "ipython3",
   "version": "3.7.0"
  }
 },
 "nbformat": 4,
 "nbformat_minor": 1
}
