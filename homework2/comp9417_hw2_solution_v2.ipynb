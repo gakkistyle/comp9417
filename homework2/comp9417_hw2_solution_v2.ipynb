{
 "cells": [
  {
   "cell_type": "markdown",
   "metadata": {},
   "source": [
    "# Question 1"
   ]
  },
  {
   "cell_type": "markdown",
   "metadata": {},
   "source": [
    "To find the answer of this question you should run the following python code cells."
   ]
  },
  {
   "cell_type": "code",
   "execution_count": 1,
   "metadata": {},
   "outputs": [],
   "source": [
    "# Code for question 1\n",
    "\n",
    "import numpy as np\n",
    "from scipy.io import arff\n",
    "import pandas as pd\n",
    "from sklearn.base import TransformerMixin\n",
    "from sklearn import tree\n",
    "from sklearn import preprocessing\n",
    "from sklearn.model_selection import train_test_split, GridSearchCV, learning_curve\n",
    "from sklearn.tree import DecisionTreeClassifier\n",
    "from sklearn.metrics import accuracy_score, f1_score, precision_score, recall_score, classification_report\n",
    "from sklearn.naive_bayes import BernoulliNB, MultinomialNB\n",
    "import sys\n",
    "import matplotlib.pyplot as plt \n",
    "%matplotlib inline\n"
   ]
  },
  {
   "cell_type": "code",
   "execution_count": 2,
   "metadata": {},
   "outputs": [],
   "source": [
    "# fixed random seed\n",
    "np.random.seed(1)\n",
    "def warn(*args, **kwargs):\n",
    "    pass\n",
    "import warnings\n",
    "warnings.warn = warn\n",
    "\n",
    "def label_enc(labels):\n",
    "    le = preprocessing.LabelEncoder()\n",
    "    le.fit(labels)\n",
    "    return le"
   ]
  },
  {
   "cell_type": "code",
   "execution_count": 3,
   "metadata": {},
   "outputs": [],
   "source": [
    "def load_data(path):\n",
    "    dataset = arff.loadarff(path)\n",
    "    data = pd.DataFrame(dataset[0])\n",
    "    attr = np.array(data.columns)\n",
    "    data = DataFrameImputer().fit_transform(data).values\n",
    "\n",
    "    # mask categorical features\n",
    "    masks = []\n",
    "    for i in range(len(attr)-1):\n",
    "        if isinstance(attr[i][1],float):\n",
    "            masks.append(i)\n",
    "    return data, masks\n",
    "\n",
    "class DataFrameImputer(TransformerMixin):\n",
    "\n",
    "    def fit(self, X, y=None):\n",
    "\n",
    "        self.fill = pd.Series([X[c].value_counts().index[0]\n",
    "            if X[c].dtype == np.dtype('O') else X[c].mean() for c in X],\n",
    "            index=X.columns)\n",
    "\n",
    "        return self\n",
    "\n",
    "    def transform(self, X, y=None):\n",
    "        return X.fillna(self.fill)\n",
    "\n",
    "def get_method_scores(data, method):\n",
    "    X = data[:,0:data.shape[1]-1]\n",
    "    lenc = label_enc(data[:,data.shape[1]-1])\n",
    "    y = lenc.transform(data[:,data.shape[1]-1])\n",
    "    train_sizes = np.array([0.05, .1, .15, .2, .25, .3, .35, .4, .45, .5])\n",
    "    _, train_scores, test_scores = learning_curve(method, X, y, cv=5, \n",
    "                                                  train_sizes=train_sizes,\n",
    "                                                  scoring=None, shuffle=False, random_state=0)\n",
    "    return test_scores"
   ]
  },
  {
   "cell_type": "code",
   "execution_count": 4,
   "metadata": {
    "scrolled": true
   },
   "outputs": [
    {
     "name": "stdout",
     "output_type": "stream",
     "text": [
      "                          DecisionTreeClassifier                           \n",
      "---------------------------------------------------------------------------------------------------------\n",
      "   Dataset    |   5%   |  10%   |  15%   |  20%   |  25%   |  30%   |  35%   |  40%   |  45%   |  50%   |\n",
      "---------------------------------------------------------------------------------------------------------\n",
      "australian    | 72.61% | 74.63% | 75.52% | 77.53% | 77.97% | 79.86% | 83.05% | 81.29% | 80.14% | 82.91% |\n",
      "balance-scale | 70.10% | 72.47% | 71.20% | 75.69% | 73.77% | 75.67% | 77.74% | 75.99% | 78.09% | 76.98% |\n",
      "hypothyroid   | 94.94% | 96.31% | 97.77% | 99.18% | 99.21% | 99.42% | 99.42% | 99.50% | 99.31% | 99.20% |\n",
      "\n",
      "\n"
     ]
    },
    {
     "data": {
      "image/png": "[encoded data removed]",
      "text/plain": [
       "<Figure size 432x288 with 1 Axes>"
      ]
     },
     "metadata": {},
     "output_type": "display_data"
    },
    {
     "name": "stdout",
     "output_type": "stream",
     "text": [
      "                          BernoulliNB with priors                          \n",
      "---------------------------------------------------------------------------------------------------------\n",
      "   Dataset    |   5%   |  10%   |  15%   |  20%   |  25%   |  30%   |  35%   |  40%   |  45%   |  50%   |\n",
      "---------------------------------------------------------------------------------------------------------\n",
      "australian    | 73.47% | 79.85% | 81.72% | 80.43% | 79.69% | 79.84% | 80.12% | 81.14% | 82.16% | 81.28% |\n",
      "balance-scale | 46.08% | 46.08% | 46.08% | 46.08% | 46.08% | 46.08% | 46.08% | 46.08% | 46.08% | 46.08% |\n",
      "hypothyroid   | 91.38% | 91.81% | 92.23% | 92.23% | 92.23% | 92.26% | 92.23% | 92.23% | 92.23% | 92.23% |\n",
      "\n",
      "\n"
     ]
    },
    {
     "data": {
      "image/png": "[encoded data removed]",
      "text/plain": [
       "<Figure size 432x288 with 1 Axes>"
      ]
     },
     "metadata": {},
     "output_type": "display_data"
    },
    {
     "name": "stdout",
     "output_type": "stream",
     "text": [
      "                        BernoulliNB without priors                         \n",
      "---------------------------------------------------------------------------------------------------------\n",
      "   Dataset    |   5%   |  10%   |  15%   |  20%   |  25%   |  30%   |  35%   |  40%   |  45%   |  50%   |\n",
      "---------------------------------------------------------------------------------------------------------\n",
      "australian    | 73.62% | 79.27% | 81.44% | 78.98% | 78.40% | 79.69% | 78.52% | 79.83% | 80.41% | 80.41% |\n",
      "balance-scale | 46.08% | 46.08% | 46.08% | 46.08% | 46.08% | 46.08% | 46.08% | 46.08% | 46.08% | 46.08% |\n",
      "hypothyroid   | 83.88% | 79.59% | 77.44% | 74.79% | 73.12% | 65.05% | 53.60% | 51.30% | 51.09% | 50.26% |\n",
      "\n",
      "\n"
     ]
    },
    {
     "data": {
      "image/png": "[encoded data removed]",
      "text/plain": [
       "<Figure size 432x288 with 1 Axes>"
      ]
     },
     "metadata": {},
     "output_type": "display_data"
    }
   ],
   "source": [
    "def test_method(method, title):\n",
    "    # load data\n",
    "    paths = ['australian','balance-scale','hypothyroid']\n",
    "    scores = []\n",
    "\n",
    "    for path in paths:\n",
    "        score = []\n",
    "        path += '.arff'\n",
    "        data, masks = load_data(path)\n",
    "\n",
    "        # training on data with different portions of training data\n",
    "        score_array = get_method_scores(data, method)\n",
    "        # we got a [num portions][num folds] array, need to avg them into \n",
    "        # a list of scores for each portion\n",
    "        for ar in score_array:\n",
    "            score.append(np.mean(ar))\n",
    "        scores.append(score)\n",
    "\n",
    "    # print the results\n",
    "    method_name = method.__class__.__name__+' '+title\n",
    "    header = \"{:^75}\".format(method_name) + '\\n' + '-' * 105  + '\\n' + \\\n",
    "    \"{:^13} | {:^6} | {:^6} | {:^6} | {:^6} | {:^6} | {:^6} | {:^6} | {:^6} | {:^6} | {:^6} |\" \\\n",
    "    .format(\"Dataset\", \"5%\", \"10%\", \"15%\", \"20%\", \"25%\", \"30%\", \"35%\", \"40%\", \"45%\", \"50%\") + \\\n",
    "     '\\n' + '-' * 105\n",
    "\n",
    "    # print result table\n",
    "    print(header)\n",
    "    for i in range(len(scores)):\n",
    "        print(\"{:<14}\".format(paths[i]),end=\"\")\n",
    "        for j in range(len(scores[i])):\n",
    "            print(\"| {:>6.2%} \".format(scores[i][j]),end=\"\")\n",
    "        print('|')\n",
    "    print('\\n')\n",
    "    plt.plot(range(5,55,5),scores[0],label='australian',color='blue')\n",
    "    plt.plot(range(5,55,5),scores[1],label='balance-scale',color='red')\n",
    "    plt.plot(range(5,55,5),scores[2],label='hypothyroid',color='green')\n",
    "    plt.xlabel('% training set')\n",
    "    plt.ylabel('accuracy')\n",
    "    plt.xticks(np.arange(5,55, step=5))\n",
    "    plt.legend()\n",
    "    plt.show()\n",
    "\n",
    "test_method(DecisionTreeClassifier(random_state=0),'')\n",
    "test_method(BernoulliNB(),'with priors')\n",
    "test_method(BernoulliNB(fit_prior=False),'without priors')"
   ]
  },
  {
   "cell_type": "raw",
   "metadata": {},
   "source": [
    "abovePart A - [0.5 marks]\n",
    "To answer this question, you should run the above python code. \n",
    "Copy and paste the two tables in your report as your answer for \"Question Part A\"."
   ]
  },
  {
   "cell_type": "raw",
   "metadata": {},
   "source": [
    "Part B - [0.5 marks]\n",
    "Looking at the results for BOTH the Bernoulli Naive Bayes and\n",
    "Decision Tree learning models over all the datasets, I\n",
    "observed the following regarding a possible \"learning curve\"\n",
    "effect due to increasing the size of the training set (choose all true statements):\n",
    "\n",
    "--- (1) none of the 6 models show a learning curve\n",
    "--- (2) all of the 6 models show a learning curve\n",
    "--- (3) most of the 6 models show a learning curve                              <<---------\n",
    "--- (4) All 3 Decision Tree models are better than Bernoulli Naive Bayes models <<--------\n",
    "--- (5) Some Bernoulli Naive Bayes models are better than Decision Tree models "
   ]
  },
  {
   "cell_type": "raw",
   "metadata": {},
   "source": [
    "Part C - [0.5 marks]\n",
    "Bernoulli Naive Bayes (BNB) in the code above use class priors as a default.\n",
    "In some cases better results can be obtained without using priors.\n",
    "In this question you will find how the results are affected by removing\n",
    "class priors (in this case replacing them with uniform probabilities)\n",
    "After the last line add one more line of code for BNB\n",
    "but with uniform priors. Consult sklearn documentation which option to use.\n",
    "After adding the new line, compare BNB model results with and without priors\n",
    "and choose ONE true statement from the below:\n",
    "\n",
    "--- (1) BNB preforms better with priors <<------------\n",
    "--- (2) BNB preforms better without priors\n",
    "--- (3) there is no difference in performance when using BNB with or without priors"
   ]
  },
  {
   "cell_type": "markdown",
   "metadata": {},
   "source": [
    "# Question 2"
   ]
  },
  {
   "cell_type": "raw",
   "metadata": {},
   "source": [
    "In this practical question, you will develop a machine learning model using Decision Tree\n",
    "to predict which passenger will survive the Titanic sinking.\n",
    "You will also calculate some probabilities based on you knowledge from lectures and tutorials.\n",
    "In order to do this, you will use titanic.csv file. \n",
    "For easy pre-processing, the column values are coded as integers with the following meaning:\n",
    "'Pclass': passenger class: 1, 2 or 3\n",
    "'Sex': 0 male, 1 female\n",
    "'Age': 0: 0-9 years old, 10: 10-19 years old, and so on\n",
    "'Siblings_Spouses_Aboard': number of sibblings and/or spouses traveling with a passenger\n",
    "'Parents_Children_Aboard': number of parents (if the passenger is a child) or number children (if the passenger is a parent)\n",
    "'Survived': 0 did not survived, 1 survived\n",
    "Then you should be able to find the answer of the questions."
   ]
  },
  {
   "cell_type": "code",
   "execution_count": 5,
   "metadata": {},
   "outputs": [],
   "source": [
    "#Libraries for Question 2\n",
    "\n",
    "import pandas as pd\n",
    "import numpy as np\n",
    "import matplotlib.pyplot as plt\n",
    "from sklearn.tree import DecisionTreeClassifier\n",
    "from sklearn.model_selection import train_test_split\n",
    "import sklearn.metrics as metrics"
   ]
  },
  {
   "cell_type": "code",
   "execution_count": 6,
   "metadata": {},
   "outputs": [
    {
     "name": "stdout",
     "output_type": "stream",
     "text": [
      "   Pclass  Sex  Age  Siblings_Spouses_Aboard  Parents_Children_Aboard  \\\n",
      "0       3    1   20                        1                        0   \n",
      "1       1    0   30                        1                        0   \n",
      "2       3    0   20                        0                        0   \n",
      "3       1    0   30                        1                        0   \n",
      "4       3    1   30                        0                        0   \n",
      "\n",
      "   Survived  \n",
      "0         0  \n",
      "1         1  \n",
      "2         1  \n",
      "3         1  \n",
      "4         0  \n"
     ]
    }
   ],
   "source": [
    "### loading dataset\n",
    "data=pd.read_csv(\"titanic.csv\")\n",
    "input_columns = ['Pclass','Sex','Age','Siblings_Spouses_Aboard','Parents_Children_Aboard']\n",
    "print(data.head())"
   ]
  },
  {
   "cell_type": "code",
   "execution_count": 7,
   "metadata": {},
   "outputs": [
    {
     "data": {
      "text/plain": [
       "Index(['Pclass', 'Sex', 'Age', 'Siblings_Spouses_Aboard',\n",
       "       'Parents_Children_Aboard', 'Survived'],\n",
       "      dtype='object')"
      ]
     },
     "execution_count": 7,
     "metadata": {},
     "output_type": "execute_result"
    }
   ],
   "source": [
    "data.columns"
   ]
  },
  {
   "cell_type": "code",
   "execution_count": 8,
   "metadata": {
    "scrolled": true
   },
   "outputs": [
    {
     "name": "stdout",
     "output_type": "stream",
     "text": [
      "(887, 6)\n",
      "<class 'pandas.core.frame.DataFrame'>\n"
     ]
    }
   ],
   "source": [
    "##Pre-precessing (min_max Normalization) \n",
    "minimum = np.min(data,axis=0)\n",
    "maximum = np.max(data,axis=0)\n",
    "NormalData = (data - minimum)/(maximum-minimum)\n",
    "print(NormalData.shape)\n",
    "print(type(NormalData))"
   ]
  },
  {
   "cell_type": "code",
   "execution_count": 9,
   "metadata": {},
   "outputs": [
    {
     "name": "stdout",
     "output_type": "stream",
     "text": [
      "(620, 6)\n",
      "(267, 6)\n"
     ]
    }
   ],
   "source": [
    "###Train and test Split \n",
    "# print(train_data)\n",
    "train_data = NormalData.iloc[:620,]\n",
    "test_data = NormalData.iloc[620:,]\n",
    "\n",
    "x_train = train_data[input_columns]\n",
    "y_train = train_data['Survived']\n",
    "x_test = test_data[input_columns]\n",
    "y_test = test_data['Survived']\n",
    "print(train_data.shape)\n",
    "print(test_data.shape)"
   ]
  },
  {
   "cell_type": "raw",
   "metadata": {},
   "source": [
    "Part A - [1 mark]\n",
    "Implement a Decision Tree Classifier for survival prediction using sklearn library\n",
    "with all other parameters left default. \n",
    "What is your accuracy score for training and test dataset?"
   ]
  },
  {
   "cell_type": "code",
   "execution_count": 10,
   "metadata": {},
   "outputs": [
    {
     "name": "stdout",
     "output_type": "stream",
     "text": [
      "Train Accuracy =  0.8564516129032258 , Test Accuracy =  0.8277153558052435\n"
     ]
    }
   ],
   "source": [
    "tree = DecisionTreeClassifier()\n",
    "tree.fit(x_train, y_train)\n",
    "\n",
    "train_accuracy = metrics.accuracy_score(y_train,tree.predict(x_train))\n",
    "test_accuracy = metrics.accuracy_score(y_test,tree.predict(x_test))\n",
    "\n",
    "print('Train Accuracy = ', train_accuracy , ', Test Accuracy = ', test_accuracy)"
   ]
  },
  {
   "cell_type": "raw",
   "metadata": {},
   "source": [
    "Part B - [1 mark]\n",
    "Find optimal number of min_samples_leaf by developing a search algorithm \n",
    "to search min_samples_leaf between 2 and 50. Please use AUC score in the search."
   ]
  },
  {
   "cell_type": "code",
   "execution_count": 11,
   "metadata": {},
   "outputs": [
    {
     "name": "stdout",
     "output_type": "stream",
     "text": [
      "optimal_min_samples_leaf is =  5\n"
     ]
    }
   ],
   "source": [
    "training_scores = []\n",
    "Test_scores = []\n",
    "n_min = 2\n",
    "n_max = 20\n",
    "for n in range(n_min,n_max):\n",
    "    tree = DecisionTreeClassifier(min_samples_leaf = n)\n",
    "    tree.fit(x_train, y_train)    \n",
    "    Test_scores.append(metrics.roc_auc_score(y_test, tree.predict_proba(x_test)[:,1]))\n",
    "    training_scores.append(metrics.roc_auc_score(y_train, tree.predict_proba(x_train)[:,1]))\n",
    "\n",
    "optimal_min_samples_leaf = np.argmax(Test_scores) + 2\n",
    "print('optimal_min_samples_leaf is = ', optimal_min_samples_leaf)"
   ]
  },
  {
   "cell_type": "raw",
   "metadata": {},
   "source": [
    "Part C - [0.5 mark]\n",
    "Plot the AUC score for all iterations (k: 2,…,20) in training and test sets. (one plot for training,\n",
    "and one for test set)."
   ]
  },
  {
   "cell_type": "code",
   "execution_count": 12,
   "metadata": {
    "scrolled": true
   },
   "outputs": [
    {
     "data": {
      "image/png": "[encoded data removed]",
      "text/plain": [
       "<Figure size 432x288 with 1 Axes>"
      ]
     },
     "metadata": {},
     "output_type": "display_data"
    }
   ],
   "source": [
    "plt.plot(range(n_min,n_max),Test_scores,label='test_AUC_score',color='blue')\n",
    "plt.plot(range(n_min,n_max),training_scores,label='train_AUC_score',color='black')\n",
    "plt.xlabel('optimal_min_samples_leaf')\n",
    "plt.ylabel('AUC score')\n",
    "plt.xticks(np.arange(n_min,n_max, step=2))\n",
    "plt.legend()\n",
    "plt.show()"
   ]
  },
  {
   "cell_type": "code",
   "execution_count": 13,
   "metadata": {},
   "outputs": [],
   "source": [
    "## optimal min_samples_leaf with gridsearchcv10"
   ]
  },
  {
   "cell_type": "code",
   "execution_count": 14,
   "metadata": {
    "scrolled": true
   },
   "outputs": [
    {
     "name": "stdout",
     "output_type": "stream",
     "text": [
      "17\n"
     ]
    }
   ],
   "source": [
    "from sklearn.model_selection import GridSearchCV\n",
    "param_grid = {'min_samples_leaf': np.arange(n_min,n_max,1)}\n",
    "\n",
    "grid_tree = GridSearchCV(DecisionTreeClassifier(), param_grid,cv=10, scoring='roc_auc')\n",
    "grid_tree.fit(x_train, y_train)\n",
    "\n",
    "print(grid_tree.best_params_['min_samples_leaf'])"
   ]
  },
  {
   "cell_type": "raw",
   "metadata": {},
   "source": [
    "Part D - [1 mark]\n",
    "Using the same titanic dataset calculate the posterior probability that a female passenger who travels in the first class survives. Use full titanic dataset to calculate this probability. \n",
    "P(S=true | G=female,C=1)"
   ]
  },
  {
   "cell_type": "code",
   "execution_count": 15,
   "metadata": {
    "scrolled": true
   },
   "outputs": [
    {
     "name": "stdout",
     "output_type": "stream",
     "text": [
      "0.36885245901639346\n"
     ]
    }
   ],
   "source": [
    "# prior probability of surviving P(S=true) is adjusted by an observation \n",
    "#  that the passanger is a female and is traveling in the fist class\n",
    "# from probability:\n",
    "# P(S=true | G=female,C=1) = P(S=true,G=female,C=1) / P(G=female,C=1)\n",
    "\n",
    "# data(G=female,C=1)\n",
    "data1 = data[data.Sex==1]\n",
    "data2 = data1[data1.Pclass==1]\n",
    "\n",
    "prob = data2[data2.Survived==1].count()[0]/data2.count()[0]\n",
    "\n",
    "print(prob)"
   ]
  }
 ],
 "metadata": {
  "kernelspec": {
   "display_name": "Python 3",
   "language": "python",
   "name": "python3"
  },
  "language_info": {
   "codemirror_mode": {
    "name": "ipython",
    "version": 3
   },
   "file_extension": ".py",
   "mimetype": "text/x-python",
   "name": "python",
   "nbconvert_exporter": "python",
   "pygments_lexer": "ipython3",
   "version": "3.6.5"
  }
 },
 "nbformat": 4,
 "nbformat_minor": 2
}
